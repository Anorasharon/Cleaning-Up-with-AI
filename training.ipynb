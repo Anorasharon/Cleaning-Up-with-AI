{
 "cells": [
  {
   "cell_type": "code",
   "execution_count": 1,
   "id": "1470cee9-16f7-4111-888f-39c1aed2125a",
   "metadata": {},
   "outputs": [],
   "source": [
    "from tensorflow.keras.preprocessing.image import ImageDataGenerator\n",
    "from tensorflow.keras.applications import MobileNetV2\n",
    "from tensorflow.keras.layers import AveragePooling2D\n",
    "from tensorflow.keras.layers import Dropout\n",
    "from tensorflow.keras.layers import Flatten\n",
    "from tensorflow.keras.layers import Dense\n",
    "from tensorflow.keras.layers import Input\n",
    "from tensorflow.keras.models import Model\n",
    "from tensorflow.keras.optimizers import Adam\n",
    "from tensorflow.keras.applications.mobilenet_v2 import preprocess_input\n",
    "from tensorflow.keras.preprocessing.image import img_to_array\n",
    "from tensorflow.keras.preprocessing.image import load_img\n",
    "from tensorflow.keras.utils import to_categorical\n",
    "from sklearn.preprocessing import LabelBinarizer\n",
    "from sklearn.preprocessing import LabelEncoder\n",
    "from sklearn.model_selection import train_test_split\n",
    "from sklearn.metrics import classification_report\n",
    "from imutils import paths\n",
    "import matplotlib.pyplot as plt\n",
    "import numpy as np\n",
    "import argparse\n",
    "import os"
   ]
  },
  {
   "cell_type": "code",
   "execution_count": 2,
   "id": "ae0c23e3-bfde-4df3-8414-fa48f3b8d6c0",
   "metadata": {},
   "outputs": [],
   "source": [
    "args = {\n",
    "    \"dataset\": r\"D:\\deep learning\\garbage detection\", \n",
    "    \"plot\": \"plot.png\",\n",
    "    \"model\": \"mask_detectorch.model\"\n",
    "}"
   ]
  },
  {
   "cell_type": "code",
   "execution_count": 3,
   "id": "7413fc32-c451-4d06-bb17-6393e3e3a6db",
   "metadata": {},
   "outputs": [],
   "source": [
    "INIT_LR = 1e-4\n",
    "EPOCHS = 15\n",
    "BS = 8"
   ]
  },
  {
   "cell_type": "code",
   "execution_count": 4,
   "id": "9acc8d23-4408-4faf-a0fa-bde79b0b2538",
   "metadata": {},
   "outputs": [
    {
     "name": "stdout",
     "output_type": "stream",
     "text": [
      "[INFO] loading images from the dataset...\n"
     ]
    }
   ],
   "source": [
    "print(\"[INFO] loading images from the dataset...\")\n",
    "imagePaths = list(paths.list_images(args[\"dataset\"]))\n",
    "data = []\n",
    "labels = []"
   ]
  },
  {
   "cell_type": "code",
   "execution_count": 5,
   "id": "57c3f95f-814e-4ef1-97b5-31e3de1c9cfe",
   "metadata": {},
   "outputs": [],
   "source": [
    "for imagePath in imagePaths:\n",
    "\tlabel = imagePath.split(os.path.sep)[-2]\n",
    "\timage = load_img(imagePath, target_size=(224, 224))\n",
    "\timage = img_to_array(image)\n",
    "\timage = preprocess_input(image)\n",
    "\tdata.append(image)\n",
    "\tlabels.append(label)"
   ]
  },
  {
   "cell_type": "code",
   "execution_count": 6,
   "id": "9ff8afdb-7925-42ff-993d-2ab9e656bf28",
   "metadata": {},
   "outputs": [],
   "source": [
    "#data= np.array(data, dtype=\"float32\")\n",
    "#labels = np.array(labels)\n"
   ]
  },
  {
   "cell_type": "code",
   "execution_count": 7,
   "id": "cef84334-3dc8-4f9c-b526-b8072166d842",
   "metadata": {},
   "outputs": [
    {
     "name": "stdout",
     "output_type": "stream",
     "text": [
      "Counter({'paper': 1050, 'cardboard': 891, 'plastic': 865, 'white-glass': 775, 'metal': 769, 'garbage detection': 1})\n"
     ]
    }
   ],
   "source": [
    "import collections\n",
    "count1=collections.Counter(labels)\n",
    "print(count1)"
   ]
  },
  {
   "cell_type": "code",
   "execution_count": 8,
   "id": "cbc83039-5494-4619-9ffc-310bb5e9a5dd",
   "metadata": {},
   "outputs": [],
   "source": [
    "data1=[]\n",
    "label1=[]\n",
    "for i in range(len(labels)):\n",
    "    if count1[labels[i]]>1:\n",
    "        data1.append(data[i])\n",
    "        label1.append(labels[i])\n",
    "        \n",
    "data = np.array(data1, dtype=\"float32\")\n",
    "labels = np.array(label1)\n"
   ]
  },
  {
   "cell_type": "code",
   "execution_count": 9,
   "id": "add48edf-7fc6-4bfb-91e5-9ae8c52a3c31",
   "metadata": {},
   "outputs": [],
   "source": [
    "lb =LabelEncoder()\n",
    "labels= lb.fit_transform(labels)"
   ]
  },
  {
   "cell_type": "code",
   "execution_count": 10,
   "id": "42d7dd00-acc1-4214-9755-7ce7e767007e",
   "metadata": {
    "scrolled": true
   },
   "outputs": [
    {
     "name": "stdout",
     "output_type": "stream",
     "text": [
      "Counter({2: 1050, 0: 891, 3: 865, 4: 775, 1: 769})\n"
     ]
    }
   ],
   "source": [
    "print(collections.Counter(labels))"
   ]
  },
  {
   "cell_type": "code",
   "execution_count": 11,
   "id": "a4f042bf-8ede-4977-8357-5dd89bfbc24e",
   "metadata": {},
   "outputs": [
    {
     "data": {
      "text/plain": [
       "4350"
      ]
     },
     "execution_count": 11,
     "metadata": {},
     "output_type": "execute_result"
    }
   ],
   "source": [
    "len(data)\n",
    "len(labels)"
   ]
  },
  {
   "cell_type": "code",
   "execution_count": 12,
   "id": "a19d3976-b3df-4eb5-97ac-53c2a9650e82",
   "metadata": {},
   "outputs": [],
   "source": [
    "\n",
    "(trainX, testX, trainY, testY) = train_test_split(\n",
    "\tdata, labels, test_size=0.3, stratify=labels, random_state=42\n",
    ")\n"
   ]
  },
  {
   "cell_type": "code",
   "execution_count": 13,
   "id": "2d6a608a-ddc8-408e-8f35-d94c4d1c4fa2",
   "metadata": {},
   "outputs": [],
   "source": [
    "from imblearn.over_sampling import RandomOverSampler\n",
    "from sklearn.utils import shuffle\n",
    "\n",
    "H, W, C = trainX.shape[1:]\n",
    "ros = RandomOverSampler()\n",
    "X_flat = trainX.reshape(len(trainX), -1)\n",
    "X_resampled, y_resampled = ros.fit_resample(X_flat, trainY)\n",
    "\n",
    "trainX = X_resampled.reshape(-1, H, W, C)\n",
    "trainY = y_resampled\n",
    "trainX, trainY = shuffle(trainX, trainY, random_state=42)"
   ]
  },
  {
   "cell_type": "code",
   "execution_count": 14,
   "id": "75c08eda-a63e-418f-893a-2e5803ec7d64",
   "metadata": {},
   "outputs": [
    {
     "data": {
      "text/plain": [
       "(3675,)"
      ]
     },
     "execution_count": 14,
     "metadata": {},
     "output_type": "execute_result"
    }
   ],
   "source": [
    "trainY.shape"
   ]
  },
  {
   "cell_type": "code",
   "execution_count": 15,
   "id": "ba8a3cea-aede-4139-b9a2-1719143ec693",
   "metadata": {},
   "outputs": [],
   "source": [
    "\n",
    "aug = ImageDataGenerator(\n",
    "    rotation_range=20,\n",
    "    zoom_range=0.15,\n",
    "    width_shift_range=0.15,\n",
    "    height_shift_range=0.15,\n",
    "    shear_range=0.1,\n",
    "    horizontal_flip=True,\n",
    "    fill_mode=\"nearest\",\n",
    "    validation_split=0.2\n",
    ")\n",
    "trainGen = aug.flow(trainX, trainY, batch_size=BS)"
   ]
  },
  {
   "cell_type": "code",
   "execution_count": 16,
   "id": "258bbdf8-abd6-4195-ab3a-7b719db20c1d",
   "metadata": {},
   "outputs": [
    {
     "name": "stdout",
     "output_type": "stream",
     "text": [
      "WARNING:tensorflow:`input_shape` is undefined or non-square, or `rows` is not in [96, 128, 160, 192, 224]. Weights for input shape (224, 224) will be loaded as the default.\n"
     ]
    }
   ],
   "source": [
    "baseModel = MobileNetV2(weights=\"imagenet\", include_top=False,\n",
    "                        input_tensor=Input(shape=(224, 224, 3)))"
   ]
  },
  {
   "cell_type": "code",
   "execution_count": 17,
   "id": "a510ddba-453d-4c94-860a-ef7c5e56d8ee",
   "metadata": {},
   "outputs": [],
   "source": [
    "baseModel.trainable = False\n",
    "headModel = baseModel.output\n",
    "headModel = AveragePooling2D(pool_size=(7, 7))(headModel)\n",
    "headModel = Flatten(name=\"flatten\")(headModel)\n",
    "headModel = Dense(128, activation=\"relu\")(headModel)\n",
    "headModel = Dropout(0.5)(headModel)\n",
    "headModel = Dense(5, activation=\"softmax\")(headModel)"
   ]
  },
  {
   "cell_type": "code",
   "execution_count": 18,
   "id": "1d56c68b-9b76-48be-8487-a1355167cc08",
   "metadata": {},
   "outputs": [],
   "source": [
    "model = Model(inputs=baseModel.input, outputs=headModel)"
   ]
  },
  {
   "cell_type": "code",
   "execution_count": 19,
   "id": "c41528b8-7a00-4502-a03c-31e06129e616",
   "metadata": {},
   "outputs": [
    {
     "data": {
      "text/plain": [
       "'for layer in baseModel.layers[-30:]:\\n\\tlayer.trainable = False'"
      ]
     },
     "execution_count": 19,
     "metadata": {},
     "output_type": "execute_result"
    }
   ],
   "source": [
    "'''for layer in baseModel.layers[-30:]:\n",
    "\tlayer.trainable = False'''"
   ]
  },
  {
   "cell_type": "code",
   "execution_count": 20,
   "id": "0ed2d018-9888-4e79-b49c-c1945b99feec",
   "metadata": {},
   "outputs": [],
   "source": [
    "baseModel.trainable = False\n",
    "\n",
    "# Then unfreeze and fine-tune\n",
    "baseModel.trainable = True\n",
    "for layer in baseModel.layers:\n",
    "    if \"batch_normalization\" in layer.name:\n",
    "        layer.trainable = False"
   ]
  },
  {
   "cell_type": "code",
   "execution_count": 21,
   "id": "560a3cb9-da52-4d69-8879-4b75c58db30b",
   "metadata": {
    "scrolled": true
   },
   "outputs": [
    {
     "name": "stdout",
     "output_type": "stream",
     "text": [
      "[INFO] compiling model...\n"
     ]
    }
   ],
   "source": [
    "print(\"[INFO] compiling model...\")\n",
    "opt = Adam(learning_rate=INIT_LR, decay=INIT_LR / EPOCHS)\n",
    "model.compile(loss=\"sparse_categorical_crossentropy\", optimizer=opt,\n",
    "\tmetrics=[\"accuracy\"])"
   ]
  },
  {
   "cell_type": "code",
   "execution_count": 22,
   "id": "653d4c8d-2294-4313-b494-7dc8a7f74335",
   "metadata": {},
   "outputs": [
    {
     "data": {
      "text/plain": [
       "(3675,)"
      ]
     },
     "execution_count": 22,
     "metadata": {},
     "output_type": "execute_result"
    }
   ],
   "source": [
    "trainY.shape"
   ]
  },
  {
   "cell_type": "code",
   "execution_count": 23,
   "id": "d8b32896-d0d1-459e-9f8b-8dead8555307",
   "metadata": {},
   "outputs": [
    {
     "name": "stdout",
     "output_type": "stream",
     "text": [
      "{0: 0.9764309764309764, 1: 1.1313394018205463, 2: 0.8285714285714286, 3: 1.0057803468208093, 4: 1.1225806451612903}\n"
     ]
    }
   ],
   "source": [
    "from sklearn.utils.class_weight import compute_class_weight\n",
    "import numpy as np\n",
    "\n",
    "# Get class weights\n",
    "class_weights = compute_class_weight(\n",
    "    class_weight=\"balanced\",\n",
    "    classes=np.unique(labels),\n",
    "    y=labels\n",
    ")\n",
    "\n",
    "class_weights = dict(enumerate(class_weights))\n",
    "print(class_weights)\n"
   ]
  },
  {
   "cell_type": "code",
   "execution_count": 24,
   "id": "38910815-91f2-46a6-a415-210945c8325e",
   "metadata": {},
   "outputs": [
    {
     "name": "stdout",
     "output_type": "stream",
     "text": [
      "Train shape: (3675, 224, 224, 3)\n",
      "Test shape: (1305, 224, 224, 3)\n",
      "Train labels: [0 1 2 3 4]\n",
      "Test labels: [0 1 2 3 4]\n"
     ]
    }
   ],
   "source": [
    "print(\"Train shape:\", trainX.shape)\n",
    "print(\"Test shape:\", testX.shape)\n",
    "print(\"Train labels:\", np.unique(trainY))\n",
    "print(\"Test labels:\", np.unique(testY))\n"
   ]
  },
  {
   "cell_type": "code",
   "execution_count": 25,
   "id": "04b872ef-9fb5-4f9b-bb89-fe03abcc554c",
   "metadata": {},
   "outputs": [
    {
     "data": {
      "text/plain": [
       "'smallX = trainX[:30]\\nsmallY = trainY[:30]\\n\\nmodel.fit(smallX, smallY, epochs=100, verbose=1)'"
      ]
     },
     "execution_count": 25,
     "metadata": {},
     "output_type": "execute_result"
    }
   ],
   "source": [
    "'''smallX = trainX[:30]\n",
    "smallY = trainY[:30]\n",
    "\n",
    "model.fit(smallX, smallY, epochs=100, verbose=1)'''"
   ]
  },
  {
   "cell_type": "code",
   "execution_count": 26,
   "id": "f956c6ba-2c68-4ffa-b018-f0b4f3defa05",
   "metadata": {
    "scrolled": true
   },
   "outputs": [
    {
     "name": "stdout",
     "output_type": "stream",
     "text": [
      "[INFO] training head...\n",
      "Epoch 1/15\n",
      "459/459 [==============================] - 1452s 3s/step - loss: 0.9045 - accuracy: 0.6646 - val_loss: 0.5485 - val_accuracy: 0.8084\n",
      "Epoch 2/15\n",
      "459/459 [==============================] - 1316s 3s/step - loss: 0.5610 - accuracy: 0.8086 - val_loss: 0.4047 - val_accuracy: 0.8605\n",
      "Epoch 3/15\n",
      "459/459 [==============================] - 1291s 3s/step - loss: 0.4353 - accuracy: 0.8525 - val_loss: 0.5183 - val_accuracy: 0.8582\n",
      "Epoch 4/15\n",
      "459/459 [==============================] - 762s 2s/step - loss: 0.3614 - accuracy: 0.8765 - val_loss: 0.4200 - val_accuracy: 0.8820\n",
      "Epoch 5/15\n",
      "459/459 [==============================] - 363s 790ms/step - loss: 0.3075 - accuracy: 0.8966 - val_loss: 0.3081 - val_accuracy: 0.8973\n",
      "Epoch 6/15\n",
      "459/459 [==============================] - 367s 799ms/step - loss: 0.2752 - accuracy: 0.9092 - val_loss: 0.5078 - val_accuracy: 0.8567\n",
      "Epoch 7/15\n",
      "459/459 [==============================] - 364s 792ms/step - loss: 0.2669 - accuracy: 0.9078 - val_loss: 0.3132 - val_accuracy: 0.9134\n",
      "Epoch 8/15\n",
      "459/459 [==============================] - 369s 805ms/step - loss: 0.2312 - accuracy: 0.9261 - val_loss: 0.3207 - val_accuracy: 0.9157\n",
      "Epoch 9/15\n",
      "459/459 [==============================] - 374s 814ms/step - loss: 0.2217 - accuracy: 0.9310 - val_loss: 0.6550 - val_accuracy: 0.8483\n",
      "Epoch 10/15\n",
      "459/459 [==============================] - 457s 995ms/step - loss: 0.1930 - accuracy: 0.9386 - val_loss: 0.3180 - val_accuracy: 0.9119\n",
      "Epoch 11/15\n",
      "459/459 [==============================] - 414s 902ms/step - loss: 0.1792 - accuracy: 0.9397 - val_loss: 0.3039 - val_accuracy: 0.9142\n",
      "Epoch 12/15\n",
      "459/459 [==============================] - 356s 776ms/step - loss: 0.1883 - accuracy: 0.9370 - val_loss: 0.3076 - val_accuracy: 0.9088\n",
      "Epoch 13/15\n",
      "459/459 [==============================] - 362s 789ms/step - loss: 0.1328 - accuracy: 0.9531 - val_loss: 0.3582 - val_accuracy: 0.9157\n",
      "Epoch 14/15\n",
      "459/459 [==============================] - 361s 786ms/step - loss: 0.1464 - accuracy: 0.9575 - val_loss: 0.3449 - val_accuracy: 0.9126\n",
      "Epoch 15/15\n",
      "459/459 [==============================] - 362s 789ms/step - loss: 0.1470 - accuracy: 0.9534 - val_loss: 0.4545 - val_accuracy: 0.8920\n"
     ]
    }
   ],
   "source": [
    "    print(\"[INFO] training head...\")\n",
    "    H = model.fit(\n",
    "    trainGen,\n",
    "    steps_per_epoch=len(trainX) // BS,\n",
    "    validation_data=(testX, testY),\n",
    "    epochs=EPOCHS,\n",
    "    class_weight=class_weights\n",
    ")\n"
   ]
  },
  {
   "cell_type": "code",
   "execution_count": 27,
   "id": "c2a9efc7-7449-4a32-ad64-b42149c70584",
   "metadata": {},
   "outputs": [
    {
     "name": "stdout",
     "output_type": "stream",
     "text": [
      "[INFO] evaluating network...\n",
      "164/164 [==============================] - 28s 161ms/step\n"
     ]
    }
   ],
   "source": [
    "print(\"[INFO] evaluating network...\")\n",
    "predIdxs = model.predict(testX, batch_size=BS)\n"
   ]
  },
  {
   "cell_type": "code",
   "execution_count": 28,
   "id": "9fc87d85-d421-484f-9af2-c6cf25c7df72",
   "metadata": {},
   "outputs": [
    {
     "name": "stdout",
     "output_type": "stream",
     "text": [
      "[0 1 2 3 4]\n",
      "[1.2766102e-17 1.8472252e-17 8.5968239e-17 ... 9.9999976e-01 9.9999988e-01\n",
      " 1.0000000e+00]\n",
      "[0 1 2 3 4]\n",
      "(1305, 5)\n"
     ]
    }
   ],
   "source": [
    "print(np.unique(testY))\n",
    "print(np.unique(predIdxs))\n",
    "print(np.unique(trainY))\n",
    "print(predIdxs.shape)"
   ]
  },
  {
   "cell_type": "code",
   "execution_count": 29,
   "id": "626ec377-be86-4206-b1ec-c52af5482c53",
   "metadata": {
    "scrolled": true
   },
   "outputs": [
    {
     "name": "stdout",
     "output_type": "stream",
     "text": [
      "              precision    recall  f1-score   support\n",
      "\n",
      "   cardboard       0.95      0.96      0.95       267\n",
      "       metal       0.84      0.94      0.89       231\n",
      "       paper       0.92      0.89      0.90       315\n",
      "     plastic       0.83      0.87      0.85       260\n",
      " white-glass       0.93      0.79      0.86       232\n",
      "\n",
      "    accuracy                           0.89      1305\n",
      "   macro avg       0.89      0.89      0.89      1305\n",
      "weighted avg       0.89      0.89      0.89      1305\n",
      "\n"
     ]
    }
   ],
   "source": [
    "target_names = ['cardboard', 'metal', 'paper', 'plastic', 'white-glass']\n",
    "predIdxs = np.argmax(predIdxs, axis=1)\n",
    "#testY=np.argmax(testY,axis=1)\n",
    "print(classification_report(testY, predIdxs,\n",
    "\ttarget_names=target_names))\n"
   ]
  },
  {
   "cell_type": "code",
   "execution_count": 30,
   "id": "a2c0cdb2-afd2-41fc-b971-c72f6b2662b0",
   "metadata": {},
   "outputs": [
    {
     "data": {
      "image/png": "[encoded data removed]",
      "text/plain": [
       "<Figure size 800x600 with 2 Axes>"
      ]
     },
     "metadata": {},
     "output_type": "display_data"
    }
   ],
   "source": [
    "from sklearn.metrics import confusion_matrix\n",
    "import seaborn as sns\n",
    "import matplotlib.pyplot as plt\n",
    "cm = confusion_matrix(testY, predIdxs)\n",
    "plt.figure(figsize=(8,6))\n",
    "sns.heatmap(cm, annot=True, fmt='d', cmap='Blues', xticklabels=target_names, yticklabels=target_names)\n",
    "plt.xlabel('Predicted')\n",
    "plt.ylabel('Actual')\n",
    "plt.title('Confusion Matrix')\n",
    "plt.show()"
   ]
  },
  {
   "cell_type": "code",
   "execution_count": 31,
   "id": "d853d8e1-b6b6-41da-a8ba-bff8f1b1274a",
   "metadata": {},
   "outputs": [
    {
     "name": "stdout",
     "output_type": "stream",
     "text": [
      "[INFO] saving mask detector model...\n"
     ]
    }
   ],
   "source": [
    "print(\"[INFO] saving mask detector model...\")\n",
    "model.save(args[\"model\"], save_format=\"h5\")"
   ]
  },
  {
   "cell_type": "code",
   "execution_count": 32,
   "id": "41504d42-cd9c-4634-aa99-7b0a8b7890a0",
   "metadata": {},
   "outputs": [
    {
     "data": {
      "image/png": "[encoded data removed]",
      "text/plain": [
       "<Figure size 640x480 with 1 Axes>"
      ]
     },
     "metadata": {},
     "output_type": "display_data"
    }
   ],
   "source": [
    "N = EPOCHS\n",
    "plt.style.use(\"ggplot\")\n",
    "plt.figure()\n",
    "plt.plot(np.arange(0, N), H.history[\"loss\"], label=\"train_loss\")\n",
    "plt.plot(np.arange(0, N), H.history[\"val_loss\"], label=\"val_loss\")\n",
    "plt.plot(np.arange(0, N), H.history[\"accuracy\"], label=\"train_acc\")\n",
    "plt.plot(np.arange(0, N), H.history[\"val_accuracy\"], label=\"val_acc\")\n",
    "plt.title(\"Training Loss and Accuracy\")\n",
    "plt.xlabel(\"Epoch #\")\n",
    "plt.ylabel(\"Loss/Accuracy\")\n",
    "plt.legend(loc=\"lower left\")\n",
    "plt.savefig(args[\"plot\"])\n"
   ]
  },
  {
   "cell_type": "code",
   "execution_count": 33,
   "id": "5d005fd6-adb1-47ee-801a-96587d917831",
   "metadata": {},
   "outputs": [],
   "source": [
    "model.save(\"garbage_classifier.h5\")\n"
   ]
  },
  {
   "cell_type": "code",
   "execution_count": null,
   "id": "ccb9bf48-2bd5-4886-b17d-ce6d2aa48dc0",
   "metadata": {},
   "outputs": [],
   "source": []
  },
  {
   "cell_type": "code",
   "execution_count": null,
   "id": "2a6eed88-00d9-4767-a62d-d24332e7b758",
   "metadata": {},
   "outputs": [],
   "source": []
  }
 ],
 "metadata": {
  "kernelspec": {
   "display_name": "Python 3 (ipykernel)",
   "language": "python",
   "name": "python3"
  },
  "language_info": {
   "codemirror_mode": {
    "name": "ipython",
    "version": 3
   },
   "file_extension": ".py",
   "mimetype": "text/x-python",
   "name": "python",
   "nbconvert_exporter": "python",
   "pygments_lexer": "ipython3",
   "version": "3.10.18"
  }
 },
 "nbformat": 4,
 "nbformat_minor": 5
}
